{
 "cells": [
  {
   "cell_type": "markdown",
   "metadata": {},
   "source": [
    "# XB_0082 - Exercises Week 3 (2022-2023)\n",
    "\n",
    "### Welcome to Introduction to Python Programming!\n",
    "\n",
    "This Jupyter notebook aims to provide exercises for practicing your programming skills.  \n"
   ]
  },
  {
   "cell_type": "markdown",
   "metadata": {},
   "source": [
    "# Introduction to this notebook\n",
    "\n",
    "* This is a **personal** notebook. \n",
    " \n",
    "<div class=\"alert alert-danger\" role=\"danger\">\n",
    "<h3>Integrity</h3>\n",
    "<ul>\n",
    "    <li>All the exercises and the graded assignments are to be done <b>individually</b>.</li>\n",
    "    <li>You must not copy from the Internet, your friends, books, etc. If you represent other people's work as your own, then that constitutes fraud and will be reported to the Examination Committee.</li>\n",
    "    <li>Making your work available to others (complicity) also constitutes fraud.</li>\n",
    "</ul>\n",
    "</div>\n",
    "\n",
    "You are expected to work with Python 3 code in this notebook.\n",
    "\n",
    "The locations where you should write your solutions can be recognized by **marker lines**, which look like this:\n",
    "\n",
    ">`#//`\n",
    ">    `BEGIN_TODO [Label]` `Description`\n",
    ">\n",
    ">`#//`\n",
    ">    `END_TODO [Label]`\n",
    "\n",
    "<div class=\"alert alert-warning\" role=\"alert\">Do NOT modify or delete these marker lines.  Keep them as they are.<br/>\n",
    "<br/>\n",
    "NEVER write code that is needed for grading <i>outside</i> the marked blocks.\n",
    "</div>\n",
    "\n",
    "Proceed in this notebook as follows:\n",
    "* **Personalize** the notebook (see below)\n",
    "* **Read** the text.\n",
    "* **Fill in** your solutions between `BEGIN_TODO` and `END_TODO` marker lines.\n",
    "* **Run** _all_ code cells (also the ones _without_ your code), _in linear order_ from the first code cell.\n",
    "\n",
    "\n",
    "**Personalize your notebook**:\n",
    "1. Copy the following three lines of code:\n",
    "\n",
    "  ```python\n",
    "  AUTHOR_NAME = 'Your Full Name'\n",
    "  AUTHOR_ID_NR = '1234567'\n",
    "  AUTHOR_DATE = 'YYYY-MM-DD'  # when first modified, e.g. '2019-02-26'\n",
    "  ```\n",
    "\n",
    "1. Paste them between the marker lines in the code cell below.\n",
    "1. Fill in your _full name_, _identification number_, and the current _date_ as strings between quotes.\n",
    "1. Run the code cell by putting the cursor there and typing **Control-Enter**."
   ]
  },
  {
   "cell_type": "code",
   "execution_count": 1,
   "metadata": {},
   "outputs": [
    {
     "data": {
      "text/plain": [
       "('Erin Bolintis', 'ebo217', '2022-9-28')"
      ]
     },
     "execution_count": 1,
     "metadata": {},
     "output_type": "execute_result"
    }
   ],
   "source": [
    "#// BEGIN_TODO [Author] Name, Id.nr., Date, as strings (1 point)\n",
    "\n",
    "AUTHOR_NAME = 'Erin Bolintis'\n",
    "AUTHOR_ID_NR = '2759817'\n",
    "AUTHOR_DATE = '2022-9-28'\n",
    "\n",
    "#// END_TODO [Author]\n",
    "\n",
    "AUTHOR_NAME, AUTHOR_ID_NR, AUTHOR_DATE"
   ]
  },
  {
   "cell_type": "code",
   "execution_count": null,
   "metadata": {},
   "outputs": [],
   "source": []
  },
  {
   "cell_type": "code",
   "execution_count": null,
   "metadata": {},
   "outputs": [],
   "source": []
  },
  {
   "cell_type": "markdown",
   "metadata": {},
   "source": [
    "## Table of Contents\n",
    "<div class=\"toc\" style=\"margin-top: 1em;\">\n",
    "    <ul class=\"toc-item\">\n",
    "        <li>\n",
    "            <span><a href=\"#Introduction-to-this-template-notebook\" data-toc-modified-id=\"Introduction-to-this-template-notebook\">Introduction to this template notebook</a></span>\n",
    "        </li>\n",
    "        <li>\n",
    "            <span><a href=\"#Important-Reminder\" data-toc-modified-id=\"Important-Reminder\">Important Reminder</a></span>\n",
    "        </li>\n",
    "        <li>\n",
    "            <span><a href=\"#1.-Hip-Hip,-Hooray\" data-toc-modified-id=\"1.-Hip-Hip,-Hooray\">1. Hip Hip, Hooray</a></span>\n",
    "        </li>\n",
    "        <li>\n",
    "            <span><a href=\"#2.-Collatz-Problem\" data-toc-modified-id=\"2.-Collatz-Problem\">2. Collatz Problem</a></span>\n",
    "        </li>\n",
    "        <li>\n",
    "            <span><a href=\"#3.-gnitirW-sdrawkcaB\" data-toc-modified-id=\"3.-gnitirW-sdrawkcaB\">3. gnitirW sdrawkcaB</a></span>\n",
    "        </li>\n",
    "        <li>\n",
    "            <span><a href=\"#4.-Writing-Books\" data-toc-modified-id=\"4.-Writing-Books\">4. Writing Books</a></span>\n",
    "        </li>\n",
    "        <li>\n",
    "            <span><a href=\"#5.-Insurance-Calculations\" data-toc-modified-id=\"5.-Insurance-Calculations\">5. Insurance Calculations</a></span>\n",
    "        </li>\n",
    "        <li>\n",
    "            <span><a href=\"#6.-Sorting\" data-toc-modified-id=\"6.-Sorting\">6. Sorting</a></span>\n",
    "        </li>\n",
    "        <li>\n",
    "            <span><a href=\"#7.-Multi-Multiplication<\" data-toc-modified-id=\"7.-Multi-Multiplication<\">7. Multi Multiplication</a></span>\n",
    "        </li>\n",
    "        <li>\n",
    "            <span><a href=\"#8.-String-Cleaning\" data-toc-modified-id=\"8.-String-Cleaning\">8. String Cleaning</a></span>\n",
    "        </li>\n",
    "        <li>\n",
    "            <span><a href=\"#9.-Counting-Letters\" data-toc-modified-id=\"9.-Counting-Letters\">9. Counting Letters</a></span>\n",
    "        </li>\n",
    "    </ul>\n",
    "</div>"
   ]
  },
  {
   "cell_type": "markdown",
   "metadata": {},
   "source": [
    "## Preliminaries\n",
    "\n",
    "Run the cell below. This cell will import additional modules providing additional Python functionality."
   ]
  },
  {
   "cell_type": "code",
   "execution_count": 2,
   "metadata": {},
   "outputs": [],
   "source": [
    "# This set of exercises does not need additional modules"
   ]
  },
  {
   "cell_type": "markdown",
   "metadata": {},
   "source": [
    "## Important Reminder!\n",
    "\n",
    "* Follow all coding conventions defined on the Python Coding Standard document available via Canvas. Remember that you are not just programming for a **machine**, you are mainly programming for **other humans!**\n",
    "\n",
    "* In particular, all function definitions must have **type hints** and a **docstring**. For instance, if you define a function `ABC` that takes the input argument `variable_1` which is an integer and returns a string you need to define the function as follows: \n",
    "    \n",
    "    `def ABC(variable_1: int) -> str:`\n",
    "  \n",
    "* If the function `ABC` **would not return anything and only print something (therefore being a void function), the return type would be None**! Therefore:\n",
    "\n",
    "     `def ABC(variable_1: int) -> None:`\n",
    "\n",
    "   \n",
    "* A **valid docstring** starts with a capital letter and ends with a period (.).\n",
    "* **You need to make sure that the notebook runs through without an error before submitting on CodeGrade**. Otherwise, CodeGrade will not be able to score your notebook correctly!\n",
    "* The functions that you need to define below to solve the problem should be general, i.e. solving not only the particular example that we provide you for each problem, but should also work with any input value that the input variables can possible take.\n"
   ]
  },
  {
   "cell_type": "markdown",
   "metadata": {},
   "source": [
    "## 1. Hip Hip, Hooray\n",
    "\n",
    "It's your professors birthday!<br>\n",
    "To celebrate create a function called `hip_hip_hooray` that uses the *integer* variable `new_age` and prints the message, **Hip Hip, Hooray**, as many times as his `new_age` using a a `while-`loop.\n",
    "\n",
    "**Example:**  \n",
    "*Input:*  \n",
    "```python\n",
    "new_age = 3\n",
    "```\n",
    "\n",
    "*Output:*  \n",
    "<pre>\n",
    "Hip Hip, Hooray\n",
    "Hip Hip, Hooray\n",
    "Hip Hip, Hooray\n",
    "</pre>\n",
    "\n",
    "**Important:** Do not forget to use type hints in the function definition!"
   ]
  },
  {
   "cell_type": "code",
   "execution_count": 3,
   "metadata": {},
   "outputs": [
    {
     "name": "stdout",
     "output_type": "stream",
     "text": [
      "Hip Hip, Hooray\n",
      "Hip Hip, Hooray\n",
      "Hip Hip, Hooray\n"
     ]
    }
   ],
   "source": [
    "#// BEGIN_TODO [birthday] Hip Hip, Hooray \n",
    "\n",
    "new_age: int=3\n",
    "def hip_hip_hooray (new_age:int)->None:\n",
    "    '''Based on the value of new_age it produces hip,hip,hoorays as many times as necesaary.'''\n",
    " \n",
    "    while new_age != 0:\n",
    "        print(\"Hip Hip, Hooray\")\n",
    "        new_age -=1\n",
    "    \n",
    "hip_hip_hooray(new_age)\n",
    "\n",
    "        \n",
    "#// END_TODO [birthday]"
   ]
  },
  {
   "cell_type": "code",
   "execution_count": null,
   "metadata": {},
   "outputs": [],
   "source": []
  },
  {
   "cell_type": "markdown",
   "metadata": {},
   "source": [
    "## 2. Collatz Problem\n",
    "\n",
    "We can use `while`-loops to test mathematical problems such as the *collatz* problem.<br>\n",
    "The *collatz* problem is an easy iterated formula in which you have an *integer* variable called `integer` and has the following formula:\n",
    "* If the `integer` is even: Divide the integer by 2\n",
    "* If the `integer` is odd: Multiply the integer by 3 and add 1\n",
    "* Do this until the sequence reaches 1 (After which it will loop 1, 4, 2, 1, ...)\n",
    "\n",
    "For this exercise, create a function called `collatz` that uses an *integer* input argument called `integer` and prints out the sequence of the collatz problem (see the example output below).\n",
    "\n",
    "**Note:** The question of the *collatz* problem is whether every starting value will eventually reach 1. \n",
    "This has not been formally proven yet, but it is assumed to be true.\n",
    "\n",
    "**Hint:** You need to create a program using a `while`-loop that prints the *collatz* sequence of an *integer*.\n",
    "\n",
    "\n",
    "\n",
    "**Example:**  \n",
    "*Input:*  \n",
    "```python\n",
    "integer = 20\n",
    "```\n",
    "\n",
    "*Output:*  \n",
    "<pre>\n",
    "10\n",
    "5\n",
    "16\n",
    "8\n",
    "4\n",
    "2\n",
    "1\n",
    "</pre>\n",
    "\n",
    "**Important:** Do not forget to use type hints in the function definition!"
   ]
  },
  {
   "cell_type": "code",
   "execution_count": 4,
   "metadata": {},
   "outputs": [
    {
     "name": "stdout",
     "output_type": "stream",
     "text": [
      "10\n",
      "5\n",
      "16\n",
      "8\n",
      "4\n",
      "2\n",
      "1\n"
     ]
    }
   ],
   "source": [
    "#// BEGIN_TODO [Collatz] Collatz Problem \n",
    "integer: int=20\n",
    "def collatz(integer:int)-> None:\n",
    "    '''Applying a while loop to try and solve the collatz problem'''\n",
    "    while integer != 1:\n",
    "        if integer % 2 == 0:\n",
    "            integer = integer // 2\n",
    "            print(integer)\n",
    "        else: \n",
    "            integer = integer * 3 + 1\n",
    "            print (integer)\n",
    "        \n",
    "            \n",
    "collatz(integer)\n",
    "\n",
    "    \n",
    "\n",
    "#// END_TODO [Collatz]"
   ]
  },
  {
   "cell_type": "markdown",
   "metadata": {},
   "source": [
    "## 3. gnitirW sdrawkcaB\n",
    "\n",
    "We can use `while`-loops in a function to reverse a string.\n",
    "\n",
    "For this exercise create a function called `print_backwards` that uses the *string* variable `word` and prints the letters backward.\n",
    "\n",
    "**Hints:** \n",
    "- This function will only print, it does not return anything.\n",
    "- Use `len(word)` to determine the string's length.\n",
    "- Use `word[i]` to take the letter at index i.\n",
    "- Keep in mind that the first character is at index 0.\n",
    "- Use `print(..., end='')` to suppress printing a new line.\n",
    "\n",
    "**Example:**  \n",
    "*Input:*  \n",
    "```python\n",
    "word = 'Pizza!'\n",
    "```\n",
    "\n",
    "*Output:*  \n",
    "<pre>\n",
    "!azziP\n",
    "</pre>\n",
    "\n",
    "**Important:** Do not forget to use type hints in the function definition!"
   ]
  },
  {
   "cell_type": "code",
   "execution_count": 5,
   "metadata": {},
   "outputs": [
    {
     "name": "stdout",
     "output_type": "stream",
     "text": [
      "!azziP"
     ]
    }
   ],
   "source": [
    "#// BEGIN_TODO [reversed] gnitirW sdrawkcaB=\n",
    "word: str= 'Pizza!'\n",
    "def print_backwards(word: str) -> None:\n",
    "    '''Prints the string backwards letter by letter'''\n",
    "    \n",
    "    e: int=1\n",
    "    while e<=len(word):\n",
    "        print(word[len(word)-e], end='')\n",
    "        e +=1\n",
    "    \n",
    "print_backwards(word)\n",
    "\n",
    "\n",
    "\n",
    "\n",
    "\n",
    "#// END_TODO [reversed]"
   ]
  },
  {
   "cell_type": "markdown",
   "metadata": {},
   "source": [
    "## 4. Writing Books\n",
    "\n",
    "We would like to print all chapters and sections for a book.<br>\n",
    "\n",
    "For this exercise create a function called `print_chapters`, which has `start_chapter`, `final_chapter`, and `max_section` as *integer* parameters:\n",
    "\n",
    "* `start_chapter` is the first chapter you are going to print.\n",
    "* `final_chapter` is the final chapter you are going to print.\n",
    "* `max_section` is the number of sections each chapter has - All chapters have the same number of `max-section`.\n",
    "\n",
    "**Hint:** `print_chapters` has to print all chapters and sections within each chapter.\n",
    "\n",
    "**Example:**  \n",
    "*Input:*  \n",
    "```python\n",
    "start_chapter = 1\n",
    "final_chapter = 3\n",
    "max_section = 2\n",
    "```\n",
    "\n",
    "*Output:*  \n",
    "<pre>\n",
    "Chapter 1\n",
    "Section 1.1 \n",
    "Section 1.2 \n",
    "Chapter 2 \n",
    "Section 2.1 \n",
    "Section 2.2 \n",
    "Chapter 3 \n",
    "Section 3.1 \n",
    "Section 3.2 \n",
    "</pre>\n",
    "\n",
    "**Important:** The function `print_chapters` should take the three input arguments `start_chapter`, `final_chapter` and `max_section` in this order! Do not forget to use type hints in the function definition!"
   ]
  },
  {
   "cell_type": "code",
   "execution_count": 6,
   "metadata": {},
   "outputs": [
    {
     "name": "stdout",
     "output_type": "stream",
     "text": [
      "Chapter 1\n",
      "Section 1.1\n",
      "Section 1.2\n",
      "Chapter 2\n",
      "Section 2.1\n",
      "Section 2.2\n",
      "Chapter 3\n",
      "Section 3.1\n",
      "Section 3.2\n"
     ]
    }
   ],
   "source": [
    "#// BEGIN_TODO [books] Writing Books\n",
    "\n",
    "start_chapter: int = 1\n",
    "final_chapter: int = 3\n",
    "max_section: int = 2\n",
    "\n",
    "def print_chapters (start_chapter: int, final_chapter:int, max_section: int)-> None:\n",
    "    '''Prints all chapters and sections for a book'''\n",
    "    while start_chapter <= final_chapter:\n",
    "        d: int=1\n",
    "        print (f\"Chapter {start_chapter}\")\n",
    "        while d!=-1:\n",
    "            print (f\"Section {start_chapter}.{max_section-d}\")\n",
    "            d-=1\n",
    "        start_chapter +=1\n",
    "\n",
    "print_chapters (start_chapter, final_chapter, max_section)       \n",
    "\n",
    "\n",
    "\n",
    "#// END_TODO [books]"
   ]
  },
  {
   "cell_type": "code",
   "execution_count": null,
   "metadata": {},
   "outputs": [],
   "source": []
  },
  {
   "cell_type": "markdown",
   "metadata": {},
   "source": [
    "## 5. Insurance Calculations\n",
    "\n",
    "We would like to check what price someones car insurance will be.<br>\n",
    "This is based on the total amount of light and heavy accidents that the person made over the last year, and the number of years of driving experience.\n",
    "\n",
    "For this exercise, you need to create a function called `checkPrice` that checks the price as often as we want, because we need to check it for multiple people. Your job is to create the function `checkPrice` such that:\n",
    "\n",
    "* The base insurance is 2,000 a year\n",
    "* Every light accident increases the price by 100\n",
    "* Every heavy accident increases the **total price** by 10%\n",
    "\n",
    "For instance: If the insurance premium was 100 (before any heavy accidents), and one has the first heavy accident, the premium increases by $10\\%, i.e. 100 * 1.10 = 110$. The second heavy accident increases the premium then by another $10\\%$. Thus, $110 * 1.10 = 121$.\n",
    "\n",
    "* Every year of driving experience drops the price by 200, but only after the first 5 learner years. Hence, if a driver has 6 years of experience, then her/his insurance payment will be lower by 200 Euros.\n",
    "* The total price of the insurance can never be lower than 800\n",
    "\n",
    "**Hint:** `checkPrice` has to return the price of the insurance (What data type has the returned value?)\n",
    "\n",
    "**Hint:** The function `checkPrice` takes three input arguments, `light_accidents`, `heavy_accidents` and `driving_experience` which are all integer variables!\n",
    "\n",
    "**Example:**  \n",
    "*Input:*  \n",
    "```python\n",
    "light_accidents = 0\n",
    "heavy_accidents = 0\n",
    "driving_experience = 0\n",
    "```\n",
    "\n",
    "*Output:*  \n",
    "<pre>\n",
    "2000.0\n",
    "</pre>\n",
    "\n",
    "**Important:** The function `checkPrice` should take the three input arguments `light_accidents`, `heavy_accidents` and `driving_experience` in this order! Do not forget to use type hints in the function definition!"
   ]
  },
  {
   "cell_type": "code",
   "execution_count": 7,
   "metadata": {},
   "outputs": [
    {
     "data": {
      "text/plain": [
       "2000.0"
      ]
     },
     "execution_count": 7,
     "metadata": {},
     "output_type": "execute_result"
    }
   ],
   "source": [
    "#// BEGIN_TODO [Insurance] Insurance Calculations\n",
    "light_accidents: int= 0\n",
    "heavy_accidents: int= 0\n",
    "driving_experience: int= 0\n",
    "    \n",
    "def checkPrice (light_accidents:int, heavy_accidents:int, driving_experience:int)-> float:\n",
    "    '''Checks what price someones car insurance will be'''\n",
    "    base_insurance: float = 2000\n",
    "    base_insurance = base_insurance+100*light_accidents\n",
    "    \n",
    "    if(heavy_accidents!= 0):\n",
    "        base_insurance = base_insurance+ 1.1**heavy_accidents \n",
    "    \n",
    "    if driving_experience> 5 :\n",
    "        base_insurance=base_insurance-200*(driving_experience-5)\n",
    "        \n",
    "    if base_insurance < 800:\n",
    "        base_insurance = 800\n",
    "        \n",
    "    return float(base_insurance)\n",
    "\n",
    "checkPrice (light_accidents, heavy_accidents, driving_experience)\n",
    "\n",
    "\n",
    "\n",
    "#// END_TODO [Insurance]"
   ]
  },
  {
   "cell_type": "markdown",
   "metadata": {},
   "source": [
    "## 6. Sorting\n",
    "\n",
    "For this exercise create a function called `sorting`, which takes three *integers* variables (see below) as arguments.<br>\n",
    "This function should sort in ascending order and return the numbers in a string. Numbers should be separated by *commas*, and one *space* is required after each *comma*.\n",
    "\n",
    "**Note:** \n",
    "- This function returns something (a string) and does not print.\n",
    "\n",
    "**Hint:**\n",
    "- You should use `max` and `min` functions to solve this problem! \n",
    "- You are not allowed to use `if`-statements to solve this problem!\n",
    "\n",
    "**Example:**  \n",
    "*Input:*  \n",
    "```python\n",
    "num_1 = 4\n",
    "num_2 = 7\n",
    "num_3 = 2\n",
    "```\n",
    "\n",
    "*Output:*  \n",
    "<pre>\n",
    "2, 4, 7\n",
    "</pre>\n",
    "\n",
    "**Important:** The function `sorting` should take the input arguments `num_1`, `num_2` and `num_3` in the exact order as outlined above (that is first `num_1` etc.)"
   ]
  },
  {
   "cell_type": "code",
   "execution_count": 6,
   "metadata": {},
   "outputs": [
    {
     "data": {
      "text/plain": [
       "\"'2, 4, 7'\""
      ]
     },
     "execution_count": 6,
     "metadata": {},
     "output_type": "execute_result"
    }
   ],
   "source": [
    "#// BEGIN_TODO [sorting_numbers] Sorting \n",
    "num_1: int= 4\n",
    "num_2: int= 7\n",
    "num_3: int= 2\n",
    "def sorting (num_1:int, num_2:int, num_3:int)->str:\n",
    "    '''Sorts in ascending order and returns the numbers in a string'''\n",
    "    min_1 = min (num_1, num_2, num_3)\n",
    "    min_2 = min(num_1, num_2)\n",
    "    min_3 = min(num_2, num_3)\n",
    "    max_2 = max(min_1, min_2, min_3)\n",
    "    max_1 = max(num_1, num_2, num_3)\n",
    "    return f\"'{min_1}, {max_2}, {max_1}'\"\n",
    "    \n",
    "sorting (num_1, num_2, num_3)    \n",
    "\n",
    "\n",
    "#// END_TODO [sorting_numbers]"
   ]
  },
  {
   "cell_type": "markdown",
   "metadata": {},
   "source": [
    "## 7. Multi Multiplication\n",
    "\n",
    "Functions can have all possible variable types as parameters.<br>\n",
    "This includes *integers*, *floats*, and *strings*. <br>\n",
    "But functions can also take other functions as parameters.<br>\n",
    "In order to test this, we are going to create two functions for this exercise:\n",
    "\n",
    "* The first function called is called `multiply`. This function takes two arguments called `num_1` and `num_2`. It  calculates the product of these two arguments returns the result.\n",
    "\n",
    "* The second function called is `run_triple`. It will take the function  `multiply` as an argument and besides this, four other arguments, `num_1`, `num_2`, `num_3` and `num_4`. `run_triple` calls the functions `multiply` twice, once with the values `num_1` and `num_2` and once with the arguments `num_3` and `num_4`. Lastly, it will call `multiply` a last time, this time with the two resulting products that one obtained doing the previous two multiplications. Lastly, it will return this final result.\n",
    "\n",
    "**Hint:** The type to use for functions as arguments is *callable*.\n",
    "\n",
    "**Note:** For this exercise, we assume that all input arguments will be integers. Hence, the functions will also return integer values!\n",
    "\n",
    "\n",
    "**Example:**  \n",
    "*Input:*  \n",
    "```python\n",
    "multiply\n",
    "num_1 = 2\n",
    "num_2 = 3\n",
    "num_3 = 3\n",
    "num_4 = 4\n",
    "```\n",
    "\n",
    "*Output:*  \n",
    "<pre>\n",
    "72\n",
    "</pre>\n",
    "\n",
    "**Important:**: The function should take the arguments in the exact order as outlined above, that is, it should take `multiply` first, then as a second argument `num_1` etc. Do not forget to use type hints in the function definition."
   ]
  },
  {
   "cell_type": "code",
   "execution_count": 8,
   "metadata": {},
   "outputs": [
    {
     "data": {
      "text/plain": [
       "72"
      ]
     },
     "execution_count": 8,
     "metadata": {},
     "output_type": "execute_result"
    }
   ],
   "source": [
    "#// BEGIN_TODO [run_triple] Multi Multiplication \n",
    "\n",
    "num_1: int= 2\n",
    "num_2: int= 3\n",
    "num_3: int= 3\n",
    "num_4: int= 4\n",
    "def multiply(num_1:int,num_2:int)->int:\n",
    "    \"Multiplies the two arguments with each other\"\n",
    "    return num_1*num_2\n",
    "\n",
    "def run_triple(multiply: callable,num_1:int, num_2:int, num_3:int, num_4:int)->int:\n",
    "    '''Multiplies all arguments with each other, while using the pre-defined multiply function'''\n",
    "    mr_1 = multiply(num_1,num_2)\n",
    "    ms_1 = multiply(num_3,num_4)\n",
    "    return multiply(mr_1,ms_1)\n",
    "\n",
    "\n",
    "run_triple(multiply, num_1, num_2, num_3, num_4)\n",
    "\n",
    "\n",
    "#// END_TODO [run_triple]"
   ]
  },
  {
   "cell_type": "markdown",
   "metadata": {},
   "source": [
    "## 8. String Cleaning\n",
    "\n",
    "Your database is storing the names of customers.<br>\n",
    "However, because of the way we use these names, the stored names have to follow certain rules. \n",
    "\n",
    "For this exercise create a function called `standardize_name` that changes the name if it does not comply to the rules, into names that do. \n",
    "Return the changed name, or the original name when it does follow the naming rules.\n",
    "\n",
    "The rules for the names are:\n",
    "* Start with capital letter\n",
    "* All other letters are lowercase\n",
    "* Only the characters a-z A-Z are allowed in the name, any other letters have to be deleted\n",
    "* Spaces and tabs are not allowed, underscores are used instead\n",
    "* Names can be no longer than 80 characters, longer names will lose their extra letters\n",
    "\n",
    "**Example:**  \n",
    "*Input:*  \n",
    "```python\n",
    "name = \"python3 cOUrse\"\n",
    "```\n",
    "\n",
    "*Output:*  \n",
    "<pre>\n",
    "Python_course\n",
    "</pre>\n",
    "\n",
    "**Important:** Do not forget to use type hints in the function definition."
   ]
  },
  {
   "cell_type": "code",
   "execution_count": 4,
   "metadata": {},
   "outputs": [
    {
     "data": {
      "text/plain": [
       "'Python_course'"
      ]
     },
     "execution_count": 4,
     "metadata": {},
     "output_type": "execute_result"
    }
   ],
   "source": [
    "#// BEGIN_TODO [transforming_names] String Cleaning \n",
    "\n",
    "name: str= \"python3 cOUrse\"\n",
    "def standardize_name(name:str)->str:\n",
    "    '''Cleans the string, so that it complys with the specified rules'''\n",
    "    new_name=\"\"\n",
    "    g: int=0\n",
    "    new: str= name.lower().capitalize()\n",
    "        \n",
    "    \n",
    "    while(g<len(new)):\n",
    "        if new[g]==\" \":\n",
    "            new_name+=\"_\"\n",
    "        elif new[g].isalpha():\n",
    "            new_name += new[g]\n",
    "        g+=1\n",
    "  \n",
    "    return new_name\n",
    "standardize_name(name)    \n",
    "\n",
    "\n",
    "\n",
    "\n",
    "\n",
    "\n",
    "#// END_TODO [transforming_names]"
   ]
  },
  {
   "cell_type": "markdown",
   "metadata": {},
   "source": [
    "## 9. Counting Letters\n",
    "\n",
    "For this exercise create a function called `count_case` that accepts a variable called `string` which is of type *string* and returns the number of upper and lower case letters as a string. \n",
    "\n",
    "**Example:**  \n",
    "*Input:*  \n",
    "```python\n",
    "\"I am currently attending Programing Course\"\n",
    "```\n",
    "\n",
    "*Output:*  \n",
    "<pre>\n",
    "Upper case: 3 - Lower case: 34\n",
    "</pre>\n",
    "\n",
    "**Important:** Do not forget to use type hints in the function definition. Also, be aware of whitespaces and capital and small letters in the final string output!"
   ]
  },
  {
   "cell_type": "code",
   "execution_count": 11,
   "metadata": {},
   "outputs": [
    {
     "data": {
      "text/plain": [
       "'Upper case: 3 - Lower case: 34'"
      ]
     },
     "execution_count": 11,
     "metadata": {},
     "output_type": "execute_result"
    }
   ],
   "source": [
    "#// BEGIN_TODO [count_case] Counting Letters \n",
    "\n",
    "string: str= \"I am currently attending Programing Course\"\n",
    "def count_case(string:str)->str:\n",
    "    '''Counts all upper and lower case letters and returns it as a string'''\n",
    "    i: int=0\n",
    "    up: int=0\n",
    "    down: int=0\n",
    "        \n",
    "    while i<len(string):\n",
    "        if string[i].isupper():\n",
    "            up+=1\n",
    "            \n",
    "        elif string[i].islower():\n",
    "            down+=1\n",
    "            \n",
    "        i+=1\n",
    "        \n",
    "    return f\"Upper case: {up} - Lower case: {down}\"\n",
    "\n",
    "count_case(string)\n",
    "\n",
    "\n",
    "\n",
    "\n",
    "#// END_TODO [count_case]"
   ]
  },
  {
   "cell_type": "markdown",
   "metadata": {},
   "source": [
    "---\n",
    "\n",
    "# (End of Notebook)\n",
    "\n",
    "&copy; 2020-2022 - **TU/e** - **VU Amsterdam**"
   ]
  }
 ],
 "metadata": {
  "anaconda-cloud": {},
  "kernelspec": {
   "display_name": "Python 3",
   "language": "python",
   "name": "python3"
  },
  "language_info": {
   "codemirror_mode": {
    "name": "ipython",
    "version": 3
   },
   "file_extension": ".py",
   "mimetype": "text/x-python",
   "name": "python",
   "nbconvert_exporter": "python",
   "pygments_lexer": "ipython3",
   "version": "3.8.8"
  }
 },
 "nbformat": 4,
 "nbformat_minor": 4
}
