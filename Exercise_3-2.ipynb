{
 "cells": [
  {
   "cell_type": "markdown",
   "metadata": {},
   "source": [
    "# XB_0082 - Exercises Week 5 (2022-2023)\n",
    "\n",
    "### Welcome to Introduction to Python Programming!\n",
    "\n",
    "This Jupyter notebook aims to provide exercises for practicing your programming skills.  \n"
   ]
  },
  {
   "cell_type": "markdown",
   "metadata": {},
   "source": [
    "# Introduction to this notebook\n",
    "\n",
    "* This is a **personal** notebook. \n",
    " \n",
    "<div class=\"alert alert-danger\" role=\"danger\">\n",
    "<h3>Integrity</h3>\n",
    "<ul>\n",
    "    <li>All the exercises and the graded assignments are to be done <b>individually</b>.</li>\n",
    "    <li>You must not copy from the Internet, your friends, books, etc. If you represent other people's work as your own, then that constitutes fraud and will be reported to the Examination Committee.</li>\n",
    "    <li>Making your work available to others (complicity) also constitutes fraud.</li>\n",
    "</ul>\n",
    "</div>\n",
    "\n",
    "You are expected to work with Python 3 code in this notebook.\n",
    "\n",
    "The locations where you should write your solutions can be recognized by **marker lines**, which look like this:\n",
    "\n",
    ">`#//`\n",
    ">    `BEGIN_TODO [Label]` `Description`\n",
    ">\n",
    ">`#//`\n",
    ">    `END_TODO [Label]`\n",
    "\n",
    "<div class=\"alert alert-warning\" role=\"alert\">Do NOT modify or delete these marker lines.  Keep them as they are.<br/>\n",
    "<br/>\n",
    "NEVER write code that is needed for grading <i>outside</i> the marked blocks.\n",
    "</div>\n",
    "\n",
    "Proceed in this notebook as follows:\n",
    "* **Personalize** the notebook (see below)\n",
    "* **Read** the text.\n",
    "* **Fill in** your solutions between `BEGIN_TODO` and `END_TODO` marker lines.\n",
    "* **Run** _all_ code cells (also the ones _without_ your code), _in linear order_ from the first code cell.\n",
    "\n",
    "\n",
    "**Personalize your notebook**:\n",
    "1. Copy the following three lines of code:\n",
    "\n",
    "  ```python\n",
    "  AUTHOR_NAME = 'Your Full Name'\n",
    "  AUTHOR_ID_NR = '1234567'\n",
    "  AUTHOR_DATE = 'YYYY-MM-DD'  # when first modified, e.g. '2019-02-26'\n",
    "  ```\n",
    "\n",
    "1. Paste them between the marker lines in the code cell below.\n",
    "1. Fill in your _full name_, _identification number_, and the current _date_ as strings between quotes.\n",
    "1. Run the code cell by putting the cursor there and typing **Control-Enter**."
   ]
  },
  {
   "cell_type": "code",
   "execution_count": 1,
   "metadata": {},
   "outputs": [
    {
     "data": {
      "text/plain": [
       "('Erin Bolintis', '2759817', '2022-10-12')"
      ]
     },
     "execution_count": 1,
     "metadata": {},
     "output_type": "execute_result"
    }
   ],
   "source": [
    "#// BEGIN_TODO [Author] Name, Id.nr., Date, as strings (1 point)\n",
    "\n",
    "AUTHOR_NAME = 'Erin Bolintis'\n",
    "AUTHOR_ID_NR = '2759817'\n",
    "AUTHOR_DATE = '2022-10-12'\n",
    "\n",
    "#// END_TODO [Author]\n",
    "\n",
    "AUTHOR_NAME, AUTHOR_ID_NR, AUTHOR_DATE"
   ]
  },
  {
   "cell_type": "markdown",
   "metadata": {},
   "source": [
    "## Table of Contents\n",
    "<div class=\"toc\" style=\"margin-top: 1em;\">\n",
    "    <ul class=\"toc-item\">\n",
    "        <li>\n",
    "            <span><a href=\"#Introduction-to-this-template-notebook\" data-toc-modified-id=\"Introduction-to-this-template-notebook\">Introduction to this template notebook</a></span>\n",
    "        </li>\n",
    "        <li>\n",
    "            <span><a href=\"#Important-Reminder\" data-toc-modified-id=\"Important-Reminder\">Important Reminder</a></span>\n",
    "        </li>\n",
    "        <li>\n",
    "            <span><a href=\"#1.-Prime-Numbers\" data-toc-modified-id=\"1.-Prime-Numbers\">1. Prime Numbers</a></span>\n",
    "        </li>\n",
    "        <li>\n",
    "            <span><a href=\"#2.-Duplicate-Detection\" data-toc-modified-id=\"2.-Duplicate-Detection\">2. Duplicate Detection</a></span>\n",
    "        </li>\n",
    "        <li>\n",
    "            <span><a href=\"#3.-Concatenating-Lists\" data-toc-modified-id=\"3.-Concatenating-Lists\">3. Concatenating Lists</a></span>\n",
    "        </li>\n",
    "        <li>\n",
    "            <span><a href=\"#4.-Remove-Last-Items\" data-toc-modified-id=\"4.-Remove-Last-Items\">4. Remove Last Items</a></span>\n",
    "        </li>\n",
    "        <li>\n",
    "            <span><a href=\"#5.-ASCII-Code\" data-toc-modified-id=\"5.-ASCII-Code\">5. ASCII Code</a></span>\n",
    "        </li>\n",
    "        <li>\n",
    "            <span><a href=\"#6.-Counting-Prefixes\" data-toc-modified-id=\"6.-Counting-Prefixes\">6. Counting Prefixes</a></span>\n",
    "        </li>\n",
    "        <li>\n",
    "            <span><a href=\"#7.-Car-Dictionaries\" data-toc-modified-id=\"7.-Car-Dictionaries\">7. Car Dictionaries</a></span>\n",
    "        </li>\n",
    "        <li>\n",
    "            <span><a href=\"#8.-Students'-Grades\" data-toc-modified-id=\"8.-Students'-Grades\">8. Students' Grades</a></span>\n",
    "        </li>\n",
    "    </ul>\n",
    "</div>"
   ]
  },
  {
   "cell_type": "markdown",
   "metadata": {},
   "source": [
    "## Important Reminder\n",
    "\n",
    "* Follow all coding conventions defined on the Python Coding Standard document available via Canvas. Remember that you are not just programming for a **machine**, you are mainly programming for **other humans!**\n",
    "    * In particular, all function definitions must have **type hints** and a **docstring**.\n",
    "    * A *valid* **docstring** starts with a capital letter and ends with a dot.\n",
    "    \n",
    "* In particular, all function definitions must have **type hints** and a **docstring**. For instance, if you define a function `ABC` that takes the input argument `variable_1` which is an integer and returns a string you need to define the function as follows: \n",
    "    \n",
    "    `def ABC(variable_1: int) -> str:`\n",
    "  \n",
    "* If the function `ABC` instead **does not return anything and only prints something (therefore being a void function), the return type is None**! Therefore:\n",
    "\n",
    "     `def ABC(variable_1: int) -> None:`\n",
    "     \n",
    "* If the function `ABC` instead **returns a list containing integer values, the return type is List[int]**! Therefore:\n",
    "\n",
    "     `def ABC(variable_1: int) -> List[int]:`\n",
    "     \n",
    "* If the function `ABC` instead **returns a dictionary containing keys provided as strings and values as integer values, the return type is Dict[str, int]**! Therefore:\n",
    "\n",
    "     `def ABC(variable_1: int) -> Dict[str, int]:`\n",
    "     \n",
    "* **You need to make sure that the notebook runs through without an error before submitting on CodeGrade**. Otherwise, CodeGrade will not be able to score your notebook correctly!\n",
    "* The functions that you need to define below to solve the problem should be general, i.e. solving not only the particular example that we provide you for each problem, but should also work with any input value that the input variables can possible take."
   ]
  },
  {
   "cell_type": "markdown",
   "metadata": {},
   "source": [
    "## Preliminaries\n",
    "\n",
    "Run the cell below. This cell will import additional modules providing additional Python functionality."
   ]
  },
  {
   "cell_type": "code",
   "execution_count": 2,
   "metadata": {},
   "outputs": [],
   "source": [
    "# Imports\n",
    "from typing import List, Dict"
   ]
  },
  {
   "cell_type": "markdown",
   "metadata": {},
   "source": [
    "## 1. Prime Numbers\n",
    "\n",
    "Create a function ```primes``` that takes an integer ```max_num``` as an argument and returns a list containing the prime numbers between 2 and ```max_num``` inclusive.<br>\n",
    "\n",
    "**Notes:**\n",
    "1. You can assume that ```max_num``` is always larger than 2.\n",
    "2. You can create auxiliary functions (helper functions) to help you solve the problem.\n",
    "\n",
    "**Example:**  \n",
    "*Input:*  \n",
    "```python\n",
    "max_num = 23\n",
    "```\n",
    "\n",
    "*Output:*  \n",
    "```Python\n",
    "[2, 3, 5, 7, 11, 13, 17, 19, 23]\n",
    "```"
   ]
  },
  {
   "cell_type": "code",
   "execution_count": 3,
   "metadata": {},
   "outputs": [
    {
     "data": {
      "text/plain": [
       "[2, 3, 5, 7, 11, 13, 17, 19, 23]"
      ]
     },
     "execution_count": 3,
     "metadata": {},
     "output_type": "execute_result"
    }
   ],
   "source": [
    "#// BEGIN_TODO [primes] Prime Numbers\n",
    "max_num: int = 23\n",
    "\n",
    "def primes(max_num:int)->List[int]:\n",
    "    '''Return the prime numbers into a list.'''\n",
    "    list_1: List[any] = []\n",
    "    for i in range(2,max_num+1):\n",
    "        d:int=0\n",
    "        for j in range (2,i//2+1):\n",
    "            if i%j==0:\n",
    "                d+=1\n",
    "        if d==0:\n",
    "            list_1.append(i)\n",
    "    return(list_1)\n",
    "primes(max_num)            \n",
    "\n",
    "\n",
    "#// END_TODO [primes]"
   ]
  },
  {
   "cell_type": "markdown",
   "metadata": {},
   "source": [
    "## 2. Duplicate Detection\n",
    "\n",
    "In this exercise, we want to identify lists containing duplicated elements. Write a function `has_duplicates` that takes as input the variable `elements` which is a list containing values of any type. `has_duplicates` returns a Boolean that is `True` if there are duplicated items on the list, `False` otherwise. Do not modify the content of `elements` within your function.\n",
    "\n",
    "**Example:**  \n",
    "*Input:*  \n",
    "```python\n",
    "elements = [1, 2, 3, 2]\n",
    "```\n",
    "\n",
    "*Output:*  \n",
    "```Python\n",
    "True\n",
    "```"
   ]
  },
  {
   "cell_type": "code",
   "execution_count": 4,
   "metadata": {},
   "outputs": [
    {
     "data": {
      "text/plain": [
       "True"
      ]
     },
     "execution_count": 4,
     "metadata": {},
     "output_type": "execute_result"
    }
   ],
   "source": [
    "#// BEGIN_TODO [duplicates] \n",
    "elements: List[any] = [1, 2, 3, 2]\n",
    "\n",
    "def has_duplicates(elements: List[int])->bool:\n",
    "    '''Checks to see if a list has Duplicates or not.'''\n",
    "    no_dupli = []\n",
    "    g: int=0\n",
    "    for i in elements:\n",
    "        if i not in no_dupli:\n",
    "            no_dupli.append(i)\n",
    "        else: g+=1\n",
    "    if g==0:\n",
    "        return False\n",
    "    else: return True\n",
    "has_duplicates(elements)\n",
    "\n",
    "#// END_TODO [duplicates]"
   ]
  },
  {
   "cell_type": "markdown",
   "metadata": {},
   "source": [
    "## 3. Concatenating Lists\n",
    "\n",
    "In this exercise, we want to practice how to append all the items from one list to another. Write the function `concatenate` that takes two lists of integers as arguments, `first` and `second`. Inside your function, create a copy of `first` and add the elements of `second` to it, then return the resulting list.\n",
    "\n",
    "**Note:** You should use the `copy()` method from the `list` data type. This methods creates a shallow copy of the list. \n",
    "\n",
    "**Note:** You should use either the `extend()` or `append()` list method!\n",
    "\n",
    "**Example:**  \n",
    "*Input:*  \n",
    "```python\n",
    "first = [1, 2, 3, 4]\n",
    "second = [5, 7, 9, 11]\n",
    "```\n",
    "\n",
    "*Output:*  \n",
    "```Python\n",
    "[1, 2, 3, 4, 5, 7, 9, 11]\n",
    "```"
   ]
  },
  {
   "cell_type": "code",
   "execution_count": 5,
   "metadata": {},
   "outputs": [
    {
     "data": {
      "text/plain": [
       "[1, 2, 3, 4, 5, 7, 9, 11]"
      ]
     },
     "execution_count": 5,
     "metadata": {},
     "output_type": "execute_result"
    }
   ],
   "source": [
    "#// BEGIN_TODO [concatenate] Concatenating lists\n",
    "first: List[any] = [1, 2, 3, 4]\n",
    "    \n",
    "second: List[any] = [5, 7, 9, 11]\n",
    "    \n",
    "\n",
    "def concatenate(first: List[int], second: List[int])->List[int]:\n",
    "    '''Appends 2 list one to another.'''\n",
    "    third: List[any]=[]\n",
    "        \n",
    "    third = first.copy()\n",
    "    \n",
    "    third.extend(second)\n",
    "    return third\n",
    "\n",
    "concatenate(first, second)\n",
    "\n",
    "\n",
    "\n",
    "#// END_TODO [concatenate]"
   ]
  },
  {
   "cell_type": "markdown",
   "metadata": {},
   "source": [
    "## 4. Remove Last Items\n",
    "\n",
    "Write a function `remove_last` that removes the last `n` items of a list of any type and returns a new list with the modified items. The function receives the list `items` and `n` as parameters. If the list has fewer than `n` items or if `n` is less than zero, the function returns the input list.\n",
    "\n",
    "**Note:** You should use the `copy()` method from the `list` data type. This methods creates a shallow copy of the list. \n",
    "\n",
    "**Note:** You should either make use of the `pop()` method or the `del` method!\n",
    "\n",
    "**Example:**  \n",
    "*Input:*  \n",
    "```python\n",
    "items = [\"str\", \"jc\", \"ttl\", \"sty\", \"spy\", \"tkt\"]\n",
    "n = 3\n",
    "```\n",
    "\n",
    "*Output:*  \n",
    "```Python\n",
    "['str', 'jc', 'ttl']\n",
    "```\n",
    "\n",
    "**Important:** The function `remove_last` should take the input arguments in the same order as shown above!"
   ]
  },
  {
   "cell_type": "code",
   "execution_count": 6,
   "metadata": {},
   "outputs": [
    {
     "data": {
      "text/plain": [
       "['str', 'jc', 'ttl']"
      ]
     },
     "execution_count": 6,
     "metadata": {},
     "output_type": "execute_result"
    }
   ],
   "source": [
    "#// BEGIN_TODO [remove_last] Remove last items\n",
    "\n",
    "items:List[any] = [\"str\", \"jc\", \"ttl\", \"sty\", \"spy\", \"tkt\"]\n",
    "n:int = 3\n",
    "\n",
    "def remove_last(items: List[any], n:int)->List[any]:\n",
    "    '''Removes the last n items of a list.'''\n",
    "    copy_list=[]\n",
    "    copy_list=items.copy()\n",
    "    for i in range(n):\n",
    "        copy_list.pop()\n",
    "    return copy_list    \n",
    "    \n",
    "remove_last(items, n)  \n",
    "\n",
    "\n",
    "\n",
    "\n",
    "#// END_TODO [remove_last]"
   ]
  },
  {
   "cell_type": "markdown",
   "metadata": {},
   "source": [
    "## 5. ASCII Code\n",
    "\n",
    "Create the function `char_to_ascii()` that has no input arguments and returns a dictionary (Specify also the datatype of the dictionary elements, i.e. the key, value pairs!). The keys of this dictionary are the lowercase letters a, b, ..., z. The value of each key corresponds to the ASCII code of that key. \n",
    "\n",
    "For instance, the first three key-value pairs of `alphabet` are: `{'a': 97, 'b': 98, 'c': 99}`<br>\n",
    "\n",
    "**Hints:**\n",
    "* The function ```ord(char)``` takes a character and returns the ASCII code of that character.<br>\n",
    "* The function ```chr(int)``` takes an ASCII code and returns its correspoding ASCII character.<br>\n",
    "```python\n",
    "ord('a') == 97\n",
    "chr(97) == 'a'\n",
    "```\n",
    "\n",
    "**Example:**  \n",
    "*Input:*  \n",
    "<pre>\n",
    "None\n",
    "</pre>\n",
    "\n",
    "*Output:*  \n",
    "\n",
    "```Python\n",
    "{ 'a': 97, 'b': 98, 'c': 99, ... }\n",
    "```"
   ]
  },
  {
   "cell_type": "code",
   "execution_count": 7,
   "metadata": {},
   "outputs": [
    {
     "name": "stdout",
     "output_type": "stream",
     "text": [
      "{'a': 97, 'b': 98, 'c': 99, 'd': 100, 'e': 101, 'f': 102, 'g': 103, 'h': 104, 'i': 105, 'j': 106, 'k': 107, 'l': 108, 'm': 109, 'n': 110, 'o': 111, 'p': 112, 'q': 113, 'r': 114, 's': 115, 't': 116, 'u': 117, 'v': 118, 'w': 119, 'x': 120, 'y': 121, 'z': 122}\n"
     ]
    }
   ],
   "source": [
    "#// BEGIN_TODO [ascii] ASCII Code\n",
    "\n",
    "\n",
    "def char_to_ascii()->Dict[chr,int]: \n",
    "    '''Puts letters into the ascii code.'''\n",
    "    dict_1= dict()\n",
    "   \n",
    "    dict_1={chr(i):i for i in range(97,123)}\n",
    "    return dict_1\n",
    "    \n",
    "print(char_to_ascii())\n",
    "\n",
    "\n",
    "\n",
    "\n",
    "#// END_TODO [ascii]"
   ]
  },
  {
   "cell_type": "markdown",
   "metadata": {},
   "source": [
    "## 6. Counting Prefixes\n",
    "\n",
    "The function `histogram_exemplary` below creates a dictionary that stores the frequency of letters in a given `word`.\n",
    "\n",
    "```Python\n",
    "def histogram_exemplary(word: str) -> Dict[str, int]:\n",
    "    \"\"\"Creates a dictionary that tracks the number of letters in a word.\n",
    "    \"\"\"\n",
    "    \n",
    "    dct = dict()\n",
    "    for ch in word:\n",
    "        if ch not in dct:\n",
    "            dct[ch] = 1\n",
    "        else:\n",
    "            dct[ch] += 1\n",
    "            \n",
    "    return dct\n",
    "\n",
    "```\n",
    "\n",
    "The `histogram_exemplary` function is the starting point for this exercise. Create a new function `histogram` that modifies the `histogram_exemplary` function (the `histogram_exemplary` funtion is not coded here, but you can see above how the function looks like!). The new function `histogram` accepts a list of strings `words` and an integer `n`.\n",
    "The new function `histogram` will return a dictionary corresponding to the histogram of the prefixes of `words`. The prefixes are obtained by selecting the first `n` characters of each word contained in `words`. \n",
    "\n",
    "**Note:** Assume that ```n >= 1``` and ```words``` is a non-empty list.\n",
    "\n",
    "**Example:**  \n",
    "*Input:*  \n",
    "```Python \n",
    "words = ['hollow', 'home', 'show', 'rec', 'recital', 'rome']\n",
    "n = 2\n",
    "```\n",
    "\n",
    "*Output:*  \n",
    "```Python\n",
    "{'ho': 2, 'sh': 1, 're': 2, 'ro': 1}\n",
    "```\n",
    "\n",
    "**Important:** Be aware that the function should return a dictionary, for which you also need to specify the typehints for the key/value pairs!"
   ]
  },
  {
   "cell_type": "code",
   "execution_count": 8,
   "metadata": {},
   "outputs": [
    {
     "data": {
      "text/plain": [
       "{'ho': 2, 'sh': 1, 're': 2, 'ro': 1}"
      ]
     },
     "execution_count": 8,
     "metadata": {},
     "output_type": "execute_result"
    }
   ],
   "source": [
    "#// BEGIN_TODO [prefixes] Counting prefixes\n",
    "words = ['hollow', 'home', 'show', 'rec', 'recital', 'rome']\n",
    "n = 2\n",
    "    \n",
    "\n",
    "def histogram(words: List[str],n:int) -> Dict[str, int]:\n",
    "    \"\"\"Creates a dictionary that tracks the number of letters in a word.\"\"\"\n",
    "    d=[]\n",
    "    for i in words:\n",
    "        d.append(i[:n])\n",
    "    dct = dict()\n",
    "    for ch in d:\n",
    "        if ch not in dct:\n",
    "            dct[ch] = 1\n",
    "        else:\n",
    "            dct[ch] += 1\n",
    "\n",
    "    return dct\n",
    "    \n",
    "histogram(words,n)\n",
    "\n",
    "\n",
    "#// END_TODO [prefixes]"
   ]
  },
  {
   "cell_type": "markdown",
   "metadata": {},
   "source": [
    "## 7. Car Dictionaries\n",
    "\n",
    "Lists of dictionaries are commonly used to stored structured data. The following cell presents the `cars` list. The list contains dictionaries with car information. The keys of each dictionary are: `'brand'`, `'model'`, `'manufacture_year'`, and `'price'`."
   ]
  },
  {
   "cell_type": "code",
   "execution_count": 9,
   "metadata": {},
   "outputs": [],
   "source": [
    "# Do not modify the code in this cell\n",
    "cars = [\n",
    "    {'brand': 'McFarri', 'model': '445', 'manufacture_year': 1980, 'price': 18000},\n",
    "    {'brand': 'McFarri', 'model': '455', 'manufacture_year': 1985, 'price': 22000},\n",
    "    {'brand': 'McFarri', 'model': '545', 'manufacture_year': 1998, 'price': 28000},\n",
    "    {'brand': 'McFarri', 'model': '555', 'manufacture_year': 2001, 'price': 30599},\n",
    "    {'brand': 'McFarri', 'model': 's445', 'manufacture_year': 2007, 'price': 36000},\n",
    "    {'brand': 'McFarri', 'model': 's455', 'manufacture_year': 2008, 'price': 44000},\n",
    "    {'brand': 'McFarri', 'model': 's545', 'manufacture_year': 2013, 'price': 56000},\n",
    "    {'brand': 'McFarri', 'model': 's555', 'manufacture_year': 2017, 'price': 112599},\n",
    "    {'brand': 'Tipsla', 'model': 'S', 'manufacture_year': 2008, 'price': 24000},\n",
    "    {'brand': 'Tipsla', 'model': 'S2', 'manufacture_year': 2010, 'price': 32999},\n",
    "    {'brand': 'Tipsla', 'model': 'X', 'manufacture_year': 2013, 'price': 28999},\n",
    "    {'brand': 'Tipsla', 'model': 'X2', 'manufacture_year': 2015, 'price': 35999},\n",
    "    {'brand': 'Tipsla', 'model': 'XF', 'manufacture_year': 2018, 'price': 39999},\n",
    "    {'brand': 'Tipsla', 'model': 'XF2.0', 'manufacture_year': 2019, 'price': 49999},\n",
    "    {'brand': 'Nissota', 'model': 'root', 'manufacture_year': 1990, 'price': 12500},\n",
    "    {'brand': 'Nissota', 'model': 'stem', 'manufacture_year': 1998, 'price': 17500},\n",
    "    {'brand': 'Nissota', 'model': 'branch', 'manufacture_year': 2010, 'price': 23999},\n",
    "    {'brand': 'Nissota', 'model': 'leaf', 'manufacture_year': 2015, 'price': 31999}\n",
    "]"
   ]
  },
  {
   "cell_type": "markdown",
   "metadata": {},
   "source": [
    "We want to include in these dictionaries two additional keys: the distance traveled by car and the factory where the car was manufactured. Your task is to write the function `update_cars()`, which takes the input argument `current_year` (integer) and the variable `cars` which is a list of dictionaries representing cars as parameters. The function `update_cars` returns the updated list (which contains dictionaries). The function updates the `cars` list by adding the keys `'distance'` and `'origin'`, whose values are computed considering the following requirements:\n",
    "\n",
    "* Expensive cars (price > 37,500) are only driven for 80,000 km a year.\n",
    "* Normal cars (price <= 37,500) are driven for a total of 240,000 km per year.\n",
    "* The regular McFarri cars are from Britain, but the s-class cars are manufactured in Italy.\n",
    "* The Tipsla cars are manufactured in The Netherlands, except for the Tipsla XF2.0 that is manufactured in USA.\n",
    "* All Nissotas are manufactured in Japan.\n",
    "\n",
    "**Notes:** \n",
    "* The modified dictionaries must have the required keys, but their order is not relevant.\n",
    "* When computing the values of ```distance```,  the current year and the manufacture year must be used to compute the number of years a car has been driven. \n",
    "\n",
    "**Example:**  \n",
    "*Input:*  \n",
    "```Python \n",
    "current_year = 2022\n",
    "cars = [{'brand': 'McFarri',\n",
    "         'model': '445',\n",
    "         'manufacture_year': 1980,\n",
    "         'price': 18000}, ...]\n",
    "```\n",
    "\n",
    "*Output:*  \n",
    "```Python\n",
    "[{'brand': 'McFarri',\n",
    "  'model': '445',\n",
    "  'manufacture_year': 1980,\n",
    "  'price': 18000,\n",
    "  'distance': 10080000,\n",
    "  'origin': 'Britain'}, ...]\n",
    "```\n",
    "\n",
    "**Important:** Be aware that the function should return a list that includes dictionaries, for which you also need to specify the typehints for the key/value pairs!"
   ]
  },
  {
   "cell_type": "code",
   "execution_count": 10,
   "metadata": {},
   "outputs": [
    {
     "data": {
      "text/plain": [
       "[{'brand': 'McFarri',\n",
       "  'model': '445',\n",
       "  'manufacture_year': 1980,\n",
       "  'price': 18000,\n",
       "  'distance': 10080000,\n",
       "  'origin': 'Britain'},\n",
       " {'brand': 'McFarri',\n",
       "  'model': '455',\n",
       "  'manufacture_year': 1985,\n",
       "  'price': 22000,\n",
       "  'distance': 8880000,\n",
       "  'origin': 'Britain'},\n",
       " {'brand': 'McFarri',\n",
       "  'model': '545',\n",
       "  'manufacture_year': 1998,\n",
       "  'price': 28000,\n",
       "  'distance': 5760000,\n",
       "  'origin': 'Britain'},\n",
       " {'brand': 'McFarri',\n",
       "  'model': '555',\n",
       "  'manufacture_year': 2001,\n",
       "  'price': 30599,\n",
       "  'distance': 5040000,\n",
       "  'origin': 'Britain'},\n",
       " {'brand': 'McFarri',\n",
       "  'model': 's445',\n",
       "  'manufacture_year': 2007,\n",
       "  'price': 36000,\n",
       "  'distance': 3600000,\n",
       "  'origin': 'Italy'},\n",
       " {'brand': 'McFarri',\n",
       "  'model': 's455',\n",
       "  'manufacture_year': 2008,\n",
       "  'price': 44000,\n",
       "  'distance': 1120000,\n",
       "  'origin': 'Italy'},\n",
       " {'brand': 'McFarri',\n",
       "  'model': 's545',\n",
       "  'manufacture_year': 2013,\n",
       "  'price': 56000,\n",
       "  'distance': 720000,\n",
       "  'origin': 'Italy'},\n",
       " {'brand': 'McFarri',\n",
       "  'model': 's555',\n",
       "  'manufacture_year': 2017,\n",
       "  'price': 112599,\n",
       "  'distance': 400000,\n",
       "  'origin': 'Italy'},\n",
       " {'brand': 'Tipsla',\n",
       "  'model': 'S',\n",
       "  'manufacture_year': 2008,\n",
       "  'price': 24000,\n",
       "  'distance': 3360000,\n",
       "  'origin': 'The Netherlands'},\n",
       " {'brand': 'Tipsla',\n",
       "  'model': 'S2',\n",
       "  'manufacture_year': 2010,\n",
       "  'price': 32999,\n",
       "  'distance': 2880000,\n",
       "  'origin': 'The Netherlands'},\n",
       " {'brand': 'Tipsla',\n",
       "  'model': 'X',\n",
       "  'manufacture_year': 2013,\n",
       "  'price': 28999,\n",
       "  'distance': 2160000,\n",
       "  'origin': 'The Netherlands'},\n",
       " {'brand': 'Tipsla',\n",
       "  'model': 'X2',\n",
       "  'manufacture_year': 2015,\n",
       "  'price': 35999,\n",
       "  'distance': 1680000,\n",
       "  'origin': 'The Netherlands'},\n",
       " {'brand': 'Tipsla',\n",
       "  'model': 'XF',\n",
       "  'manufacture_year': 2018,\n",
       "  'price': 39999,\n",
       "  'distance': 320000,\n",
       "  'origin': 'The Netherlands'},\n",
       " {'brand': 'Tipsla',\n",
       "  'model': 'XF2.0',\n",
       "  'manufacture_year': 2019,\n",
       "  'price': 49999,\n",
       "  'distance': 240000,\n",
       "  'origin': 'USA'},\n",
       " {'brand': 'Nissota',\n",
       "  'model': 'root',\n",
       "  'manufacture_year': 1990,\n",
       "  'price': 12500,\n",
       "  'distance': 7680000,\n",
       "  'origin': 'Japan'},\n",
       " {'brand': 'Nissota',\n",
       "  'model': 'stem',\n",
       "  'manufacture_year': 1998,\n",
       "  'price': 17500,\n",
       "  'distance': 5760000,\n",
       "  'origin': 'Japan'},\n",
       " {'brand': 'Nissota',\n",
       "  'model': 'branch',\n",
       "  'manufacture_year': 2010,\n",
       "  'price': 23999,\n",
       "  'distance': 2880000,\n",
       "  'origin': 'Japan'},\n",
       " {'brand': 'Nissota',\n",
       "  'model': 'leaf',\n",
       "  'manufacture_year': 2015,\n",
       "  'price': 31999,\n",
       "  'distance': 1680000,\n",
       "  'origin': 'Japan'}]"
      ]
     },
     "execution_count": 10,
     "metadata": {},
     "output_type": "execute_result"
    }
   ],
   "source": [
    "#// BEGIN_TODO [car_dict] Car dictionaries\n",
    "current_year:int = 2022\n",
    "  \n",
    "def update_cars(current_year: int,cars:List[Dict[str,any]])-> List[Dict[str, any]]:\n",
    "    '''Adds 2 more keys and their value to the dictionary.'''  \n",
    "    for i in cars:\n",
    "        i.update({\"distance\": 0, \"origin\": \"\"})\n",
    "        \n",
    "        if i['price']>37500:\n",
    "            i.update({\"distance\":((current_year-i[\"manufacture_year\"])* 80000)})\n",
    "        elif i['price']<=37500:\n",
    "            i.update({\"distance\":((current_year-i[\"manufacture_year\"])* 240000)}) \n",
    "        if i['brand']== 'McFarri':\n",
    "            t=True\n",
    "            for d in i['model']:\n",
    "                if d==\"s\":\n",
    "                    t=False\n",
    "                if t==True:\n",
    "                    i.update({\"origin\": \"Britain\"})\n",
    "                else:\n",
    "                    i.update({\"origin\": \"Italy\"}) \n",
    "        if i['brand']== 'Tipsla':\n",
    "                if i['model']==\"XF2.0\":\n",
    "                    i.update({\"origin\": \"USA\"})\n",
    "                else:\n",
    "                    i.update({\"origin\": \"The Netherlands\"}) \n",
    "        if i['brand']== 'Nissota':\n",
    "            i.update({\"origin\": \"Japan\"}) \n",
    "    return cars\n",
    "update_cars(current_year,cars)\n",
    "\n",
    "#// END_TODO [car_dict]"
   ]
  },
  {
   "cell_type": "markdown",
   "metadata": {},
   "source": [
    "## 8. Students' Grades\n",
    "\n",
    "We are using a dictionary called `students` to store student names and their corresponding grades obtained from several assignments. For this exercise, write a function `get_best_student` that receives a dictionary `students` as parameter (check the type of the dictionary! What is the datatype of the key (here the name?) and what is the datatype of the value ? Be specific of the datatype of the value!). The function returns the name of the student having the best average grade.\n",
    "\n",
    "**Example:**  \n",
    "*Input:*  \n",
    "```Python \n",
    "students = {'max': [9, 9, 8, 10, 8, 7],\n",
    "            'paula': [10, 10, 8, 9, 9, 10], \n",
    "            'sangeeth': [5, 6, 7, 8, 9, 10],\n",
    "            'susanne': [9, 10, 4, 7, 7, 8]}\n",
    "```\n",
    "\n",
    "*Output:*  \n",
    "```Python\n",
    "'paula'\n",
    "```\n",
    "\n",
    "**Important** You are not allowed to use external libraries that calculate the mean for you! Instead, you should write the code necessary for yourself!"
   ]
  },
  {
   "cell_type": "code",
   "execution_count": 11,
   "metadata": {},
   "outputs": [
    {
     "data": {
      "text/plain": [
       "'paula'"
      ]
     },
     "execution_count": 11,
     "metadata": {},
     "output_type": "execute_result"
    }
   ],
   "source": [
    "#// BEGIN_TODO [best_student] Students' grades\n",
    "students = {'max': [9, 9, 8, 10, 8, 7],\n",
    "            'paula': [10, 10, 8, 9, 9, 10], \n",
    "            'sangeeth': [5, 6, 7, 8, 9, 10],\n",
    "            'susanne': [9, 10, 4, 7, 7, 8]}\n",
    "\n",
    "def get_best_student(students: Dict[str,List[int]])->str:\n",
    "    '''Returns the name of the best student.'''\n",
    "    values = students.values()\n",
    "    list_1: List[any]=[]\n",
    "    for j in values:\n",
    "        avrg = sum(j) / len(j)\n",
    "        list_1.append(avrg)\n",
    "    max_1 = max(list_1)\n",
    "    place = list_1.index(max_1) \n",
    "    answ = list(students.keys())[place]\n",
    "    return(answ) \n",
    "get_best_student(students)\n",
    "#// END_TODO [best_student]"
   ]
  },
  {
   "cell_type": "markdown",
   "metadata": {},
   "source": [
    "---\n",
    "\n",
    "# (End of Notebook)\n",
    "\n",
    "&copy; 2020-2022 - **TU/e** - **VU Amsterdam**"
   ]
  }
 ],
 "metadata": {
  "anaconda-cloud": {},
  "kernelspec": {
   "display_name": "Python 3",
   "language": "python",
   "name": "python3"
  },
  "language_info": {
   "codemirror_mode": {
    "name": "ipython",
    "version": 3
   },
   "file_extension": ".py",
   "mimetype": "text/x-python",
   "name": "python",
   "nbconvert_exporter": "python",
   "pygments_lexer": "ipython3",
   "version": "3.8.8"
  }
 },
 "nbformat": 4,
 "nbformat_minor": 4
}
