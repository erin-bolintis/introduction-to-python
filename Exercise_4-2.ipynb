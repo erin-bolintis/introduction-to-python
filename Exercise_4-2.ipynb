{
 "cells": [
  {
   "cell_type": "markdown",
   "metadata": {},
   "source": [
    "# XB_0082 - Exercises Week 7 (2022-2023)\n",
    "\n",
    "This Jupyter notebook aims to provide exercises for practicing your programming skills.  \n",
    "\n"
   ]
  },
  {
   "cell_type": "markdown",
   "metadata": {},
   "source": [
    "# Introduction to this notebook\n",
    "\n",
    "* This is a **personal** notebook. \n",
    " \n",
    "<div class=\"alert alert-danger\" role=\"danger\">\n",
    "<h3>Integrity</h3>\n",
    "<ul>\n",
    "    <li>All the exercises and the graded assignments are to be done <b>individually</b>.</li>\n",
    "    <li>You must not copy from the Internet, your friends, books, etc. If you represent other people's work as your own, then that constitutes fraud and will be reported to the Examination Committee.</li>\n",
    "    <li>Making your work available to others (complicity) also constitutes fraud.</li>\n",
    "</ul>\n",
    "</div>\n",
    "\n",
    "You are expected to work with Python 3 code in this notebook.\n",
    "\n",
    "The locations where you should write your solutions can be recognized by **marker lines**, which look like this:\n",
    "\n",
    ">`#//`\n",
    ">    `BEGIN_TODO [Label]` `Description`\n",
    ">\n",
    ">`#//`\n",
    ">    `END_TODO [Label]`\n",
    "\n",
    "<div class=\"alert alert-warning\" role=\"alert\">Do NOT modify or delete these marker lines.  Keep them as they are.<br/>\n",
    "<br/>\n",
    "NEVER write code that is needed for grading <i>outside</i> the marked blocks.\n",
    "</div>\n",
    "\n",
    "Proceed in this notebook as follows:\n",
    "* **Personalize** the notebook (see below)\n",
    "* **Read** the text.\n",
    "* **Fill in** your solutions between `BEGIN_TODO` and `END_TODO` marker lines.\n",
    "* **Run** _all_ code cells (also the ones _without_ your code), _in linear order_ from the first code cell.\n",
    "\n",
    "\n",
    "**Personalize your notebook**:\n",
    "1. Copy the following three lines of code:\n",
    "\n",
    "  ```python\n",
    "  AUTHOR_NAME = 'Your Full Name'\n",
    "  AUTHOR_ID_NR = '1234567'\n",
    "  AUTHOR_DATE = 'YYYY-MM-DD'  # when first modified, e.g. '2019-02-26'\n",
    "  ```\n",
    "\n",
    "1. Paste them between the marker lines in the code cell below.\n",
    "1. Fill in your _full name_, _identification number_, and the current _date_ as strings between quotes.\n",
    "1. Run the code cell by putting the cursor there and typing **Control-Enter**."
   ]
  },
  {
   "cell_type": "code",
   "execution_count": 1,
   "metadata": {},
   "outputs": [],
   "source": [
    "#// BEGIN_TODO [Author] Name, Id.nr., Date, as strings \n",
    "\n",
    "AUTHOR_NAME = 'Bolintis Erin'\n",
    "AUTHOR_ID_NR = '2759817'\n",
    "AUTHOR_DATE = '2022-11-13'\n",
    "\n",
    "#// END_TODO [Author]\n"
   ]
  },
  {
   "cell_type": "markdown",
   "metadata": {},
   "source": [
    "## Table of Contents\n",
    "<div class=\"toc\" style=\"margin-top: 1em;\">\n",
    "    <ul class=\"toc-item\">\n",
    "        <li>\n",
    "            <span><a href=\"#Introduction-to-this-template-notebook\" data-toc-modified-id=\"Introduction-to-this-template-notebook\">Introduction to this template notebook</a></span>\n",
    "        </li>\n",
    "        <li>\n",
    "            <span><a href=\"#Important-Reminder\" data-toc-modified-id=\"Important-Reminder\">Important Reminder</a></span>\n",
    "        </li>\n",
    "        <li>\n",
    "            <span><a href=\"#1.-Pokemon-Search\" data-toc-modified-id=\"1.-Pokemon-Search\">1. Pokemon-Search</a></span>\n",
    "        </li>\n",
    "        <li>\n",
    "            <span><a href=\"#2.-Caribbean-holiday-Part-1\" data-toc-modified-id=\"2.-Caribbean-holiday-Part-1\">2. Caribbean holiday Part 1</a></span>\n",
    "        </li>\n",
    "        <li>\n",
    "            <span><a href=\"#3.-Caribbean-holiday-Part-2\" data-toc-modified-id=\"3.-Caribbean-holiday-Part-2\">3. Caribbean holiday Part 2</a></span>\n",
    "        </li>\n",
    "        <li>\n",
    "            <span><a href=\"#4.-Setting-Points\" data-toc-modified-id=\"4.-Setting-Points\">4. Setting Points</a></span>\n",
    "        </li>\n",
    "        <li>\n",
    "            <span><a href=\"#5.-Distance-Between-Two-Points\" data-toc-modified-id=\"5.-Distance-Between-Two-Points\">5. Distance Between Two Points</a></span>\n",
    "        </li>\n",
    "        <li>\n",
    "            <span><a href=\"#6.-Circle\" data-toc-modified-id=\"6.-Circle\">6. Circle</a></span>\n",
    "        </li>\n",
    "    </ul>\n",
    "</div>"
   ]
  },
  {
   "cell_type": "markdown",
   "metadata": {},
   "source": [
    "## Important Reminder\n",
    "\n",
    "* Follow all coding conventions defined on the Python Coding Standard document available via Canvas. Remember that you are not just programming for a **machine**, you are mainly programming for **other humans!**\n",
    "    * In particular, all function definitions must have **type hints** and a **docstring**.\n",
    "    * A *valid* **docstring** starts with a capital letter and ends with a dot.\n",
    "    \n",
    "* In particular, all function definitions must have **type hints** and a **docstring**. For instance, if you define a function `ABC` that takes the input argument `variable_1` which is an integer and returns a string you need to define the function as follows: \n",
    "    \n",
    "    `def ABC(variable_1: int) -> str:`\n",
    "  \n",
    "* If the function `ABC` instead **does not return anything and only prints something (therefore being a void function), the return type is None**! Therefore:\n",
    "\n",
    "     `def ABC(variable_1: int) -> None:`\n",
    "     \n",
    "* If the function `ABC` instead **returns a list containing integer values, the return type is List[int]**! Therefore:\n",
    "\n",
    "     `def ABC(variable_1: int) -> List[int]:`\n",
    "     \n",
    "* If the function `ABC` instead **returns a dictionary containing keys provided as strings and values as integer values, the return type is Dict[str, int]**! Therefore:\n",
    "\n",
    "     `def ABC(variable_1: int) -> Dict[str, int]:`\n",
    "\n",
    "* If the function `ABC` instead **returns a Tuple, the return type is Tuple*! Therefore:\n",
    "\n",
    "     `def ABC(variable_1: int) -> Tuple:`\n",
    "     \n",
    "* If the function `ABC` instead **returns a SET, the return type is Set*! Therefore:\n",
    "\n",
    "     `def ABC(variable_1: int) -> Set:`\n",
    "\n",
    "* **You need to make sure that the notebook runs through without an error before submitting on CodeGrade**. Otherwise, CodeGrade will not be able to score your notebook correctly!\n",
    "* The functions that you need to define below to solve the problem should be general, i.e. solving not only the particular example that we provide you for each problem, but should also work with any input value that the input variables can possible take."
   ]
  },
  {
   "cell_type": "markdown",
   "metadata": {},
   "source": [
    "## Important Reminder\n",
    "\n",
    "* Follow all coding conventions defined on the Python Coding Standard document available via Canvas. Remember that you are not just programming for a **machine**, you are mainly programming for **other humans!**\n",
    "    * In particular, all function definitions must have **type hints** and a **docstring**.\n",
    "    * A *valid* **docstring** starts with a capital letter and ends with a dot. "
   ]
  },
  {
   "cell_type": "code",
   "execution_count": 1,
   "metadata": {},
   "outputs": [],
   "source": [
    "# Imports\n",
    "from typing import List, Dict, Set, Tuple\n",
    "import json"
   ]
  },
  {
   "cell_type": "markdown",
   "metadata": {},
   "source": [
    "## 1. Pokemon Search\n",
    "\n",
    "The `datasets` folder contains the `pokedex` file, which has information about all Pokemons, including their ids, names, stats, types, and skills. Load the `pokedex.json` file into the `pokedex` variable.\n",
    "\n",
    "Then, create a function `compute_pokemon_skills`. This function takes two input arguments, `path` which is a str and `name` which represents the name of the Pokemon (what datatype is this?). The function should integer with the number of skills that the Pokemon can learn (also count duplicate skills). If the Pokemon does not exist in the file you must return -1.\n",
    "\n",
    "**Notes:** \n",
    "- The items in this list contain other data structures (lists, dicts).\n",
    "- Investigate about and use the `json` module.\n",
    "- **Be aware of the order of the input arguments. The function should first take `path` and then `name` as arguments!**\n",
    "\n",
    "**Hint**:\n",
    "- To read a json file, you can use the `json.load()` function.\n",
    "\n",
    "**Example:**  \n",
    "*Input:*  \n",
    "```Python \n",
    "path = 'datasets/pokedex.json'\n",
    "name = 'Bulbasaur'\n",
    "```\n",
    "\n",
    "*Output:*  \n",
    "```Python\n",
    "67\n",
    "```"
   ]
  },
  {
   "cell_type": "code",
   "execution_count": 4,
   "metadata": {},
   "outputs": [
    {
     "data": {
      "text/plain": [
       "67"
      ]
     },
     "execution_count": 4,
     "metadata": {},
     "output_type": "execute_result"
    }
   ],
   "source": [
    "#// BEGIN_TODO [pokemon] Pokemon Search\n",
    "path = 'datasets/pokedex.json'\n",
    "name = 'Bulbasaur'\n",
    "\n",
    "def compute_pokemon_skills(path: str, name: str) -> int:\n",
    "    '''\n",
    "    The function counts the skills.\n",
    "    '''\n",
    "    with open(\"datasets/pokedex.json\") as out_:\n",
    "        pokedex = json.load(out_)\n",
    "        for i in pokedex:\n",
    "            if name == i['ename']:\n",
    "                dct_skills = i['skills']\n",
    "                cnt = 0\n",
    "                for j in dct_skills:\n",
    "                    skills = len(dct_skills[j])\n",
    "                    cnt += skills\n",
    "                return cnt   \n",
    "compute_pokemon_skills(path, name)\n",
    "#// END_TODO [pokemon]\n"
   ]
  },
  {
   "cell_type": "markdown",
   "metadata": {},
   "source": [
    "## 2. Caribbean holiday Part 1 "
   ]
  },
  {
   "cell_type": "markdown",
   "metadata": {},
   "source": [
    "A travel agency is compiling a report on holiday resorts in the Caribbean. For this, they are collecting data from different sources.\n",
    "\n",
    "During this work, they encounter two datasets. One is a list of prices for different resorts per night, and the other is a list containing values of either 0 or 1, which represents whether it is possible to spot blacktip reef sharks in the vicinity of the resort. The agency knows that these two datasets refer to resorts in the same order (e.g., that the first price in the first list is for the same resort as the first 0/1 value for shark spotting in the second list).\n",
    "\n",
    "Although the agency does not know which resorts are contained in the lists exactly, they would like to at least form meaningful pairs of the data, containing price-shark spotting option pairs. For instance, if the first resort in the lists costs 230 USD per night and it has blacktip reef sharks in the surrounding beaches, the first data pair will be (230, 1). The agency would like to use these data pairs to find the lowest possible price for a resort where blacktip reef sharks might be spotted.\n",
    "\n",
    "Design a function called `cheapest_shark` which takes two lists as input arguments, `prices` (you can assume that prices have integer values) and `sharks`. The `sharks` list containes either a 0 or 1 depending on if at the associated resort one can spot sharks (1) or not (0). The function `cheapest_shark` should return a tuple which contains the lowest price where sharks can be spotted. \n",
    "\n",
    "Hint:\n",
    "- Consider using the `zip()` function to form meaningful price-shark spotting option pairs.You can read more about zip functions in section 12.5 of the textbook: https://greenteapress.com/thinkpython2/html/thinkpython2013.html#sec145 Using the zip function is not mandatory though!\n",
    "\n",
    "Example:\n",
    "\n",
    "Input:\n",
    "```python\n",
    "prices = [230, 180, 52, 390, 520]\n",
    "sharks = [1, 0, 0, 1, 1]\n",
    "```\n",
    "\n",
    "Output:\n",
    "<pre>\n",
    "(230, 1)\n",
    "</pre>\n"
   ]
  },
  {
   "cell_type": "code",
   "execution_count": 5,
   "metadata": {},
   "outputs": [
    {
     "data": {
      "text/plain": [
       "(230, 1)"
      ]
     },
     "execution_count": 5,
     "metadata": {},
     "output_type": "execute_result"
    }
   ],
   "source": [
    "#// BEGIN_TODO [Caribbean holiday Part 1] Caribbean holiday Part 1\n",
    "prices: List = [230, 180, 52, 390, 520]\n",
    "sharks: List = [1, 0, 0, 1, 1]\n",
    "\n",
    "def cheapest_shark(prices:int, sharks:List) -> tuple():\n",
    "    '''\n",
    "    The function returns the lowest price where sharks can be spotted.\n",
    "    '''\n",
    "    for pairs in zip(prices, sharks):\n",
    "        for mini in prices:\n",
    "            for i in pairs:\n",
    "                if mini is min(prices) and i == 1:\n",
    "                    return pairs\n",
    "                \n",
    "                \n",
    "                \n",
    "cheapest_shark(prices, sharks)    \n",
    "\n",
    "#// END_TODO [Caribbean holiday Part 1] Caribbean holiday Part 1"
   ]
  },
  {
   "cell_type": "markdown",
   "metadata": {},
   "source": [
    "## 3. Caribbean holiday Part 2 "
   ]
  },
  {
   "cell_type": "markdown",
   "metadata": {},
   "source": [
    "As discussed in the previous exercise, a travel agency is compiling a report on holiday resorts in the Caribbean. For this, they are collecting data from different sources.\n",
    "\n",
    "They find a particular dataset on the Manta Ray Resort, which contains excerpts from reviews given for this resort on two different booking sites. Each dataset is a list of keywords that were mentioned in reviews of the resort.\n",
    "\n",
    "The agency would like to find out the following: what are the unique keywords which were mentioned in reviews on at least one of the sites, and what are the unique keywords which were mentioned on both sites?\n",
    "\n",
    "Design two functions which will help the agency find this out. The first function `all_keywords` should take two arguments, `site1` and `site2` which are both lists of string values. It should then return a set with those keywords, that are contained in **either of the lists or even in both. The resulting set should not contain any duplicates!**\n",
    "\n",
    "The second function called `mutual_keywords` takes also two input arguments, `site1` and `site2` which are again both lists of string values. However, this function returns a set with those keywords, that are contained in **both lists**, i.e. `site1` as well as in `site2`. \n",
    "\n",
    "**Hint:** \n",
    "- The type hint for a function that returns a set is `Set`\n",
    "- You might want to check out the `union` and `intersection` function of sets\n",
    "\n",
    "\n",
    "Example:\n",
    "\n",
    "Input:\n",
    "```python\n",
    "site1 = [\"breakfast\", \"view\", \"beach\", \"hospitality\", \"breakfast\", \"clean\", \"view\"]\n",
    "site2 = [\"dinner\", \"view\", \"unfriendly\", \"pool\", \"clean\", \"pool\"]\n",
    "```\n",
    "\n",
    "Output for `all_keywords` function:\n",
    "<pre>\n",
    "{'beach', 'breakfast', 'clean', 'dinner', 'hospitality', 'pool', 'unfriendly','view'}\n",
    "</pre>\n",
    "\n",
    "Output for `mutual_keywords` function:\n",
    "<pre>\n",
    "{'clean', 'view'}\n",
    "</pre>\n"
   ]
  },
  {
   "cell_type": "code",
   "execution_count": 8,
   "metadata": {},
   "outputs": [
    {
     "name": "stdout",
     "output_type": "stream",
     "text": [
      "['beach', 'breakfast', 'clean', 'dinner', 'hospitality', 'pool', 'unfriendly', 'view']\n",
      "['clean', 'view']\n"
     ]
    }
   ],
   "source": [
    "#// BEGIN_TODO [Caribbean holiday Part 2] Caribbean holiday Part 2\n",
    "site1 = [\"breakfast\", \"view\", \"beach\", \"hospitality\", \"breakfast\", \"clean\", \"view\"]\n",
    "site2 = [\"dinner\", \"view\", \"unfriendly\", \"pool\", \"clean\", \"pool\"]\n",
    "\n",
    "set_1 = set(site1)\n",
    "set_2 = set(site2)\n",
    "\n",
    "def all_keywords(site1: List, site2: List)-> Set:\n",
    "    '''\n",
    "    Returns a list of all keywords.\n",
    "    '''\n",
    "    words_1 = set_1.union(set_2)\n",
    "    print(sorted(words_1))\n",
    "    \n",
    "all_keywords(site1, site2)\n",
    "\n",
    "def mutual_keywords(site1: List, site2: List)-> Set:\n",
    "    '''\n",
    "    Returns a list with the mutual keywords.\n",
    "    '''\n",
    "    words_2 = set_1.intersection(set_2)\n",
    "    print(sorted(words_2))\n",
    "    \n",
    "mutual_keywords(site1, site2)\n",
    "\n",
    "#// END_TODO [Caribbean holiday Part 2] Caribbean holiday Part 2"
   ]
  },
  {
   "cell_type": "markdown",
   "metadata": {},
   "source": [
    "## 4. Setting Points\n",
    "\n",
    "The cell below defines a class `Point` that has 2D coordinates, `x` and `y` respectively, as attributes. \n",
    "\n",
    "For this exercise, **instantiate two objects of type `Point`**. The first one is `point_1` with coordinates (8, 0), and second is `point_2` with coordinates (0, 5). The first number in the parenthesis corresponds to the `x` coordinate, whereas the second one refers to the `y` coordinate.\n",
    "\n",
    "**Note:** We will use class `Point` in the next exercises. \n",
    "\n",
    "**Example:**  \n",
    "*Input:*  \n",
    "<pre>\n",
    "None\n",
    "</pre>\n",
    "\n",
    "*Output:*  \n",
    "<pre>\n",
    "None\n",
    "</pre>"
   ]
  },
  {
   "cell_type": "code",
   "execution_count": 10,
   "metadata": {},
   "outputs": [],
   "source": [
    "# Do not modify the code in this cell        \n",
    "        \n",
    "class Point():\n",
    "    \"\"\" Represents a point in 2D coordinates. \n",
    "    \"\"\"\n",
    "    def __init__(self, x, y):\n",
    "        self.x = x\n",
    "        self.y = y"
   ]
  },
  {
   "cell_type": "code",
   "execution_count": 11,
   "metadata": {},
   "outputs": [],
   "source": [
    "#// BEGIN_TODO [setting_points] Setting points\n",
    "\n",
    "point_1 = Point(8,0)\n",
    "point_2 = Point(0,5)\n",
    "\n",
    "#// END_TODO [setting_points]"
   ]
  },
  {
   "cell_type": "markdown",
   "metadata": {},
   "source": [
    "## 5. Distance Between Two Points\n",
    "\n",
    "Functions can have all possible variable types (e.g., *integers*, *floats*, and *strings*) and other functions as parameters. **But functions can also take objects as parameters**. We will create a function that takes objects as parameters and produces a result.\n",
    "\n",
    "For this exercise, create a function called `distance()`, which accepts two points (objects of type `Point`) and returns the euclidean distance between them. \n",
    "In order to test your function works as expected, use the two `Point` variables called `point_1` and `point_2` created in the previous exercise, and observe the result of `distance(point_1, point_2)` when you execute the cell below.\n",
    "\n",
    "**Note:** \n",
    "- Function `distance()` does not print anything, but **returns the euclidean distance between two points in 2D**.\n",
    "- `sqrt()` function (from the `math` built-in module) should be used to get the square root of the number.\n",
    "\n",
    "**Hint**: You can compute `x` to the power of `y` as `x ** y` in Python. For instance, `x` to the power of `3` can be calculated by `x**3`.\n",
    "\n",
    "\n",
    "**Example:**  \n",
    "*Input:*  \n",
    "```python\n",
    "point_1, point_2\n",
    "```\n",
    "\n",
    "*Output:*  \n",
    "<pre>\n",
    "9.433981132056603\n",
    "</pre>"
   ]
  },
  {
   "cell_type": "code",
   "execution_count": 18,
   "metadata": {},
   "outputs": [
    {
     "data": {
      "text/plain": [
       "9.433981132056603"
      ]
     },
     "execution_count": 18,
     "metadata": {},
     "output_type": "execute_result"
    }
   ],
   "source": [
    "from math import sqrt\n",
    "\n",
    "#// BEGIN_TODO [distance] Distance between two points\n",
    "\n",
    "def distance(point_1: Point, point_2: Point)-> float:\n",
    "    '''\n",
    "    Returns the distance between 2 points.\n",
    "    '''\n",
    "    return sqrt(((point_2.x -point_1.x )**2) + ((point_2.y - point_1.y)**2))\n",
    "\n",
    "distance(point_1, point_2)   \n",
    "\n",
    "#// END_TODO [distance] Distance between two points\n",
    "\n"
   ]
  },
  {
   "cell_type": "markdown",
   "metadata": {},
   "source": [
    "## 6. Circle\n",
    "\n",
    "Classes can have objects as attributes. For this exercise create a class called `Circle` containing a `center` and a `radius` as attributes. The `center` is represented by a `Point` object (previously defined in *Exercise 4*) and the `radius` by an *integer* value. These two attributes should get defined in the init method!\n",
    "\n",
    "\n",
    "Then, create a method (i.e. a function within a class object) called `inside_circle()` that takes a point as parameter and returns `True` if the point lies inside the circle, `False` otherwise.\n",
    "\n",
    "**Notes:** \n",
    "- Class `Circle` represents a circle using a point as a center and a radius.\n",
    "- Parameters of a circle are defined and initialized in the class `Circle`.\n",
    "- Use the `distance()` function defined in the previous exercise.\n",
    "- The border of the circle would count as inside the circle.\n",
    "- Please use the right order of the input arguments, hence, the class Circle first uses `center` and then `radius`!\n",
    "\n",
    "**Example:**  \n",
    "*Input:*  \n",
    "```python\n",
    "\n",
    "center = Point(2,3)\n",
    "circle = Circle(center, 2)\n",
    "\n",
    "point = Point(1,5)\n",
    "\n",
    "circle.inside_circle(point)\n",
    "\n",
    "```\n",
    "\n",
    "*Output:*  \n",
    "<pre>\n",
    "False\n",
    "</pre>"
   ]
  },
  {
   "cell_type": "code",
   "execution_count": 24,
   "metadata": {},
   "outputs": [],
   "source": [
    "#// BEGIN_TODO [circle] Circle\n",
    "\n",
    "\n",
    "\n",
    "#// END_TODO [circle]"
   ]
  },
  {
   "cell_type": "markdown",
   "metadata": {},
   "source": [
    "# (End of Notebook)\n",
    "\n",
    "&copy; 2020-2022 - **TU/e** - **VU Amsterdam**"
   ]
  }
 ],
 "metadata": {
  "anaconda-cloud": {},
  "kernelspec": {
   "display_name": "Python 3",
   "language": "python",
   "name": "python3"
  },
  "language_info": {
   "codemirror_mode": {
    "name": "ipython",
    "version": 3
   },
   "file_extension": ".py",
   "mimetype": "text/x-python",
   "name": "python",
   "nbconvert_exporter": "python",
   "pygments_lexer": "ipython3",
   "version": "3.8.8"
  }
 },
 "nbformat": 4,
 "nbformat_minor": 4
}
